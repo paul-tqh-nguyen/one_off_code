{
 "cells": [
  {
   "cell_type": "code",
   "execution_count": 1,
   "metadata": {},
   "outputs": [],
   "source": [
    "import pandas as pd\n",
    "import networkx as nx"
   ]
  },
  {
   "cell_type": "markdown",
   "metadata": {},
   "source": [
    "# Import/Process Data"
   ]
  },
  {
   "cell_type": "code",
   "execution_count": 2,
   "metadata": {},
   "outputs": [],
   "source": [
    "anime_df = pd.read_csv('./data/anime.csv')\n",
    "rating_df = pd.read_csv('./data/rating.csv')"
   ]
  },
  {
   "cell_type": "code",
   "execution_count": 3,
   "metadata": {},
   "outputs": [
    {
     "data": {
      "text/html": [
       "<div>\n",
       "<style scoped>\n",
       "    .dataframe tbody tr th:only-of-type {\n",
       "        vertical-align: middle;\n",
       "    }\n",
       "\n",
       "    .dataframe tbody tr th {\n",
       "        vertical-align: top;\n",
       "    }\n",
       "\n",
       "    .dataframe thead th {\n",
       "        text-align: right;\n",
       "    }\n",
       "</style>\n",
       "<table border=\"1\" class=\"dataframe\">\n",
       "  <thead>\n",
       "    <tr style=\"text-align: right;\">\n",
       "      <th></th>\n",
       "      <th>anime_id</th>\n",
       "      <th>name</th>\n",
       "      <th>genre</th>\n",
       "      <th>type</th>\n",
       "      <th>episodes</th>\n",
       "      <th>rating</th>\n",
       "      <th>members</th>\n",
       "    </tr>\n",
       "  </thead>\n",
       "  <tbody>\n",
       "    <tr>\n",
       "      <th>0</th>\n",
       "      <td>32281</td>\n",
       "      <td>Kimi no Na wa.</td>\n",
       "      <td>Drama, Romance, School, Supernatural</td>\n",
       "      <td>Movie</td>\n",
       "      <td>1</td>\n",
       "      <td>9.37</td>\n",
       "      <td>200630</td>\n",
       "    </tr>\n",
       "    <tr>\n",
       "      <th>1</th>\n",
       "      <td>5114</td>\n",
       "      <td>Fullmetal Alchemist: Brotherhood</td>\n",
       "      <td>Action, Adventure, Drama, Fantasy, Magic, Mili...</td>\n",
       "      <td>TV</td>\n",
       "      <td>64</td>\n",
       "      <td>9.26</td>\n",
       "      <td>793665</td>\n",
       "    </tr>\n",
       "    <tr>\n",
       "      <th>2</th>\n",
       "      <td>28977</td>\n",
       "      <td>Gintama°</td>\n",
       "      <td>Action, Comedy, Historical, Parody, Samurai, S...</td>\n",
       "      <td>TV</td>\n",
       "      <td>51</td>\n",
       "      <td>9.25</td>\n",
       "      <td>114262</td>\n",
       "    </tr>\n",
       "    <tr>\n",
       "      <th>3</th>\n",
       "      <td>9253</td>\n",
       "      <td>Steins;Gate</td>\n",
       "      <td>Sci-Fi, Thriller</td>\n",
       "      <td>TV</td>\n",
       "      <td>24</td>\n",
       "      <td>9.17</td>\n",
       "      <td>673572</td>\n",
       "    </tr>\n",
       "    <tr>\n",
       "      <th>4</th>\n",
       "      <td>9969</td>\n",
       "      <td>Gintama&amp;#039;</td>\n",
       "      <td>Action, Comedy, Historical, Parody, Samurai, S...</td>\n",
       "      <td>TV</td>\n",
       "      <td>51</td>\n",
       "      <td>9.16</td>\n",
       "      <td>151266</td>\n",
       "    </tr>\n",
       "  </tbody>\n",
       "</table>\n",
       "</div>"
      ],
      "text/plain": [
       "   anime_id                              name  \\\n",
       "0     32281                    Kimi no Na wa.   \n",
       "1      5114  Fullmetal Alchemist: Brotherhood   \n",
       "2     28977                          Gintama°   \n",
       "3      9253                       Steins;Gate   \n",
       "4      9969                     Gintama&#039;   \n",
       "\n",
       "                                               genre   type episodes  rating  \\\n",
       "0               Drama, Romance, School, Supernatural  Movie        1    9.37   \n",
       "1  Action, Adventure, Drama, Fantasy, Magic, Mili...     TV       64    9.26   \n",
       "2  Action, Comedy, Historical, Parody, Samurai, S...     TV       51    9.25   \n",
       "3                                   Sci-Fi, Thriller     TV       24    9.17   \n",
       "4  Action, Comedy, Historical, Parody, Samurai, S...     TV       51    9.16   \n",
       "\n",
       "   members  \n",
       "0   200630  \n",
       "1   793665  \n",
       "2   114262  \n",
       "3   673572  \n",
       "4   151266  "
      ]
     },
     "execution_count": 3,
     "metadata": {},
     "output_type": "execute_result"
    }
   ],
   "source": [
    "anime_df.head()"
   ]
  },
  {
   "cell_type": "code",
   "execution_count": 4,
   "metadata": {},
   "outputs": [
    {
     "data": {
      "text/html": [
       "<div>\n",
       "<style scoped>\n",
       "    .dataframe tbody tr th:only-of-type {\n",
       "        vertical-align: middle;\n",
       "    }\n",
       "\n",
       "    .dataframe tbody tr th {\n",
       "        vertical-align: top;\n",
       "    }\n",
       "\n",
       "    .dataframe thead th {\n",
       "        text-align: right;\n",
       "    }\n",
       "</style>\n",
       "<table border=\"1\" class=\"dataframe\">\n",
       "  <thead>\n",
       "    <tr style=\"text-align: right;\">\n",
       "      <th></th>\n",
       "      <th>user_id</th>\n",
       "      <th>anime_id</th>\n",
       "      <th>rating</th>\n",
       "    </tr>\n",
       "  </thead>\n",
       "  <tbody>\n",
       "    <tr>\n",
       "      <th>0</th>\n",
       "      <td>1</td>\n",
       "      <td>20</td>\n",
       "      <td>-1</td>\n",
       "    </tr>\n",
       "    <tr>\n",
       "      <th>1</th>\n",
       "      <td>1</td>\n",
       "      <td>24</td>\n",
       "      <td>-1</td>\n",
       "    </tr>\n",
       "    <tr>\n",
       "      <th>2</th>\n",
       "      <td>1</td>\n",
       "      <td>79</td>\n",
       "      <td>-1</td>\n",
       "    </tr>\n",
       "    <tr>\n",
       "      <th>3</th>\n",
       "      <td>1</td>\n",
       "      <td>226</td>\n",
       "      <td>-1</td>\n",
       "    </tr>\n",
       "    <tr>\n",
       "      <th>4</th>\n",
       "      <td>1</td>\n",
       "      <td>241</td>\n",
       "      <td>-1</td>\n",
       "    </tr>\n",
       "  </tbody>\n",
       "</table>\n",
       "</div>"
      ],
      "text/plain": [
       "   user_id  anime_id  rating\n",
       "0        1        20      -1\n",
       "1        1        24      -1\n",
       "2        1        79      -1\n",
       "3        1       226      -1\n",
       "4        1       241      -1"
      ]
     },
     "execution_count": 4,
     "metadata": {},
     "output_type": "execute_result"
    }
   ],
   "source": [
    "rating_df.head()"
   ]
  },
  {
   "cell_type": "code",
   "execution_count": 5,
   "metadata": {},
   "outputs": [
    {
     "data": {
      "text/plain": [
       "rating\n",
       "No Rating         1476496\n",
       "Rating Present    6337241\n",
       "Name: user_id, dtype: int64"
      ]
     },
     "execution_count": 5,
     "metadata": {},
     "output_type": "execute_result"
    }
   ],
   "source": [
    "ratings_present_series = (rating_df['rating'] != -1).map({True: 'Rating Present', False: 'No Rating'})\n",
    "ratings_present_counts = rating_df['user_id'].groupby(ratings_present_series).agg('count')\n",
    "ratings_present_counts"
   ]
  },
  {
   "cell_type": "code",
   "execution_count": 6,
   "metadata": {},
   "outputs": [
    {
     "data": {
      "text/plain": [
       "0.18896156858107716"
      ]
     },
     "execution_count": 6,
     "metadata": {},
     "output_type": "execute_result"
    }
   ],
   "source": [
    "ratings_present_counts['No Rating'] / len(rating_df)"
   ]
  },
  {
   "cell_type": "markdown",
   "metadata": {},
   "source": [
    "Let's make a graph that's super simple where a rating < 5 means they liked the anime."
   ]
  },
  {
   "cell_type": "code",
   "execution_count": 7,
   "metadata": {},
   "outputs": [
    {
     "data": {
      "text/html": [
       "<div>\n",
       "<style scoped>\n",
       "    .dataframe tbody tr th:only-of-type {\n",
       "        vertical-align: middle;\n",
       "    }\n",
       "\n",
       "    .dataframe tbody tr th {\n",
       "        vertical-align: top;\n",
       "    }\n",
       "\n",
       "    .dataframe thead th {\n",
       "        text-align: right;\n",
       "    }\n",
       "</style>\n",
       "<table border=\"1\" class=\"dataframe\">\n",
       "  <thead>\n",
       "    <tr style=\"text-align: right;\">\n",
       "      <th></th>\n",
       "      <th>user_id</th>\n",
       "      <th>anime_id</th>\n",
       "      <th>name</th>\n",
       "      <th>genre</th>\n",
       "      <th>type</th>\n",
       "      <th>episodes</th>\n",
       "      <th>rating</th>\n",
       "      <th>members</th>\n",
       "    </tr>\n",
       "  </thead>\n",
       "  <tbody>\n",
       "    <tr>\n",
       "      <th>0</th>\n",
       "      <td>1</td>\n",
       "      <td>8074</td>\n",
       "      <td>Highschool of the Dead</td>\n",
       "      <td>Action, Ecchi, Horror, Supernatural</td>\n",
       "      <td>TV</td>\n",
       "      <td>12</td>\n",
       "      <td>7.46</td>\n",
       "      <td>535892.0</td>\n",
       "    </tr>\n",
       "    <tr>\n",
       "      <th>1</th>\n",
       "      <td>1</td>\n",
       "      <td>11617</td>\n",
       "      <td>High School DxD</td>\n",
       "      <td>Comedy, Demons, Ecchi, Harem, Romance, School</td>\n",
       "      <td>TV</td>\n",
       "      <td>12</td>\n",
       "      <td>7.70</td>\n",
       "      <td>398660.0</td>\n",
       "    </tr>\n",
       "    <tr>\n",
       "      <th>2</th>\n",
       "      <td>1</td>\n",
       "      <td>11757</td>\n",
       "      <td>Sword Art Online</td>\n",
       "      <td>Action, Adventure, Fantasy, Game, Romance</td>\n",
       "      <td>TV</td>\n",
       "      <td>25</td>\n",
       "      <td>7.83</td>\n",
       "      <td>893100.0</td>\n",
       "    </tr>\n",
       "    <tr>\n",
       "      <th>3</th>\n",
       "      <td>1</td>\n",
       "      <td>15451</td>\n",
       "      <td>High School DxD New</td>\n",
       "      <td>Action, Comedy, Demons, Ecchi, Harem, Romance,...</td>\n",
       "      <td>TV</td>\n",
       "      <td>12</td>\n",
       "      <td>7.87</td>\n",
       "      <td>266657.0</td>\n",
       "    </tr>\n",
       "    <tr>\n",
       "      <th>4</th>\n",
       "      <td>2</td>\n",
       "      <td>11771</td>\n",
       "      <td>Kuroko no Basket</td>\n",
       "      <td>Comedy, School, Shounen, Sports</td>\n",
       "      <td>TV</td>\n",
       "      <td>25</td>\n",
       "      <td>8.46</td>\n",
       "      <td>338315.0</td>\n",
       "    </tr>\n",
       "    <tr>\n",
       "      <th>...</th>\n",
       "      <td>...</td>\n",
       "      <td>...</td>\n",
       "      <td>...</td>\n",
       "      <td>...</td>\n",
       "      <td>...</td>\n",
       "      <td>...</td>\n",
       "      <td>...</td>\n",
       "      <td>...</td>\n",
       "    </tr>\n",
       "    <tr>\n",
       "      <th>6151693</th>\n",
       "      <td>73515</td>\n",
       "      <td>16512</td>\n",
       "      <td>Devil Survivor 2 The Animation</td>\n",
       "      <td>Action, Demons, Supernatural</td>\n",
       "      <td>TV</td>\n",
       "      <td>13</td>\n",
       "      <td>7.06</td>\n",
       "      <td>101266.0</td>\n",
       "    </tr>\n",
       "    <tr>\n",
       "      <th>6151694</th>\n",
       "      <td>73515</td>\n",
       "      <td>17187</td>\n",
       "      <td>Ghost in the Shell: Arise - Border:1 Ghost Pain</td>\n",
       "      <td>Mecha, Police, Psychological, Sci-Fi</td>\n",
       "      <td>Movie</td>\n",
       "      <td>1</td>\n",
       "      <td>7.64</td>\n",
       "      <td>31747.0</td>\n",
       "    </tr>\n",
       "    <tr>\n",
       "      <th>6151695</th>\n",
       "      <td>73515</td>\n",
       "      <td>22145</td>\n",
       "      <td>Kuroshitsuji: Book of Circus</td>\n",
       "      <td>Comedy, Demons, Fantasy, Historical, Shounen, ...</td>\n",
       "      <td>TV</td>\n",
       "      <td>10</td>\n",
       "      <td>8.37</td>\n",
       "      <td>122895.0</td>\n",
       "    </tr>\n",
       "    <tr>\n",
       "      <th>6151696</th>\n",
       "      <td>73516</td>\n",
       "      <td>790</td>\n",
       "      <td>Ergo Proxy</td>\n",
       "      <td>Mystery, Psychological, Sci-Fi</td>\n",
       "      <td>TV</td>\n",
       "      <td>23</td>\n",
       "      <td>8.03</td>\n",
       "      <td>265005.0</td>\n",
       "    </tr>\n",
       "    <tr>\n",
       "      <th>6151697</th>\n",
       "      <td>73516</td>\n",
       "      <td>8074</td>\n",
       "      <td>Highschool of the Dead</td>\n",
       "      <td>Action, Ecchi, Horror, Supernatural</td>\n",
       "      <td>TV</td>\n",
       "      <td>12</td>\n",
       "      <td>7.46</td>\n",
       "      <td>535892.0</td>\n",
       "    </tr>\n",
       "  </tbody>\n",
       "</table>\n",
       "<p>6151698 rows × 8 columns</p>\n",
       "</div>"
      ],
      "text/plain": [
       "         user_id  anime_id                                             name  \\\n",
       "0              1      8074                           Highschool of the Dead   \n",
       "1              1     11617                                  High School DxD   \n",
       "2              1     11757                                 Sword Art Online   \n",
       "3              1     15451                              High School DxD New   \n",
       "4              2     11771                                 Kuroko no Basket   \n",
       "...          ...       ...                                              ...   \n",
       "6151693    73515     16512                   Devil Survivor 2 The Animation   \n",
       "6151694    73515     17187  Ghost in the Shell: Arise - Border:1 Ghost Pain   \n",
       "6151695    73515     22145                     Kuroshitsuji: Book of Circus   \n",
       "6151696    73516       790                                       Ergo Proxy   \n",
       "6151697    73516      8074                           Highschool of the Dead   \n",
       "\n",
       "                                                     genre   type episodes  \\\n",
       "0                      Action, Ecchi, Horror, Supernatural     TV       12   \n",
       "1            Comedy, Demons, Ecchi, Harem, Romance, School     TV       12   \n",
       "2                Action, Adventure, Fantasy, Game, Romance     TV       25   \n",
       "3        Action, Comedy, Demons, Ecchi, Harem, Romance,...     TV       12   \n",
       "4                          Comedy, School, Shounen, Sports     TV       25   \n",
       "...                                                    ...    ...      ...   \n",
       "6151693                       Action, Demons, Supernatural     TV       13   \n",
       "6151694               Mecha, Police, Psychological, Sci-Fi  Movie        1   \n",
       "6151695  Comedy, Demons, Fantasy, Historical, Shounen, ...     TV       10   \n",
       "6151696                     Mystery, Psychological, Sci-Fi     TV       23   \n",
       "6151697                Action, Ecchi, Horror, Supernatural     TV       12   \n",
       "\n",
       "         rating   members  \n",
       "0          7.46  535892.0  \n",
       "1          7.70  398660.0  \n",
       "2          7.83  893100.0  \n",
       "3          7.87  266657.0  \n",
       "4          8.46  338315.0  \n",
       "...         ...       ...  \n",
       "6151693    7.06  101266.0  \n",
       "6151694    7.64   31747.0  \n",
       "6151695    8.37  122895.0  \n",
       "6151696    8.03  265005.0  \n",
       "6151697    7.46  535892.0  \n",
       "\n",
       "[6151698 rows x 8 columns]"
      ]
     },
     "execution_count": 7,
     "metadata": {},
     "output_type": "execute_result"
    }
   ],
   "source": [
    "user_likes_anime_df = rating_df[rating_df['rating'] >= 5]\n",
    "user_likes_anime_df = user_likes_anime_df[['user_id','anime_id']]\n",
    "user_likes_anime_df = user_likes_anime_df.merge(anime_df, how='left', on='anime_id')\n",
    "assert user_likes_anime_df['name'].isna().sum() == 2, \"Expected only 2 anime IDs to have missing names\"\n",
    "user_likes_anime_df = user_likes_anime_df[user_likes_anime_df.notna()]\n",
    "user_likes_anime_df"
   ]
  },
  {
   "cell_type": "code",
   "execution_count": 8,
   "metadata": {},
   "outputs": [],
   "source": [
    "user_likes_anime_graph = nx.from_pandas_edgelist(\n",
    "    user_likes_anime_df,\n",
    "    'user_id',\n",
    "    'anime_id',\n",
    "    ['name', 'genre', 'type', 'episodes', 'rating', 'members']\n",
    ")"
   ]
  },
  {
   "cell_type": "code",
   "execution_count": 9,
   "metadata": {},
   "outputs": [
    {
     "data": {
      "text/plain": [
       "{'name': 'Highschool of the Dead',\n",
       " 'genre': 'Action, Ecchi, Horror, Supernatural',\n",
       " 'type': 'TV',\n",
       " 'episodes': '12',\n",
       " 'rating': 7.46,\n",
       " 'members': 535892.0}"
      ]
     },
     "execution_count": 9,
     "metadata": {},
     "output_type": "execute_result"
    }
   ],
   "source": [
    "user_likes_anime_graph[1][8074]"
   ]
  },
  {
   "cell_type": "code",
   "execution_count": 10,
   "metadata": {},
   "outputs": [],
   "source": [
    "del anime_df\n",
    "del rating_df\n",
    "del ratings_present_series\n",
    "del ratings_present_counts"
   ]
  },
  {
   "cell_type": "markdown",
   "metadata": {},
   "source": [
    "# Graph Projection"
   ]
  },
  {
   "cell_type": "code",
   "execution_count": 11,
   "metadata": {},
   "outputs": [],
   "source": [
    "user_ids = user_likes_anime_df['user_id'].unique().tolist()\n",
    "del user_likes_anime_df"
   ]
  },
  {
   "cell_type": "code",
   "execution_count": null,
   "metadata": {},
   "outputs": [],
   "source": [
    "user_similarity_graph = nx.algorithms.bipartite.weighted_projected_graph(user_likes_anime_graph, user_ids)\n",
    "del user_likes_anime_graph"
   ]
  },
  {
   "cell_type": "code",
   "execution_count": null,
   "metadata": {},
   "outputs": [],
   "source": []
  },
  {
   "cell_type": "code",
   "execution_count": null,
   "metadata": {},
   "outputs": [],
   "source": []
  },
  {
   "cell_type": "code",
   "execution_count": null,
   "metadata": {},
   "outputs": [],
   "source": []
  },
  {
   "cell_type": "code",
   "execution_count": null,
   "metadata": {},
   "outputs": [],
   "source": []
  }
 ],
 "metadata": {
  "kernelspec": {
   "display_name": "Python 3",
   "language": "python",
   "name": "python3"
  },
  "language_info": {
   "codemirror_mode": {
    "name": "ipython",
    "version": 3
   },
   "file_extension": ".py",
   "mimetype": "text/x-python",
   "name": "python",
   "nbconvert_exporter": "python",
   "pygments_lexer": "ipython3",
   "version": "3.7.5"
  }
 },
 "nbformat": 4,
 "nbformat_minor": 4
}
