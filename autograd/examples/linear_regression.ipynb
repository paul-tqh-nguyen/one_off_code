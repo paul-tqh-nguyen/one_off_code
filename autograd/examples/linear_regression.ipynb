{
 "cells": [
  {
   "cell_type": "markdown",
   "metadata": {},
   "source": [
    "# Linear Regression Example\n",
    "\n",
    "In this tutorial, we'll walk through how to use our automatic differentiation engine to perform multivariate linear regression on a real estate dataset. \n",
    "\n",
    "The data can be found [here](https://www.kaggle.com/quantbruce/real-estate-price-prediction).\n",
    "\n",
    "Our goal here is not to create the best model to fit our data, but to simply show how to use our automatic differentiation engine to create, train, and test a linear regression model. Thus, our model will be very simplistic for pedagogical purposes."
   ]
  },
  {
   "cell_type": "markdown",
   "metadata": {},
   "source": [
    "# Data Preprocessing\n",
    "\n",
    "We'll first take look at our data, validate it, and preprocess it to be in a form appropriate to use with our automatic differentiation engine.\n",
    "\n",
    "Feel free to skip this section as it doesn't directly relate to how to use our automatic differentiation engine.\n",
    "\n",
    "Let's first import some necessary libraries."
   ]
  },
  {
   "cell_type": "code",
   "execution_count": 1,
   "metadata": {},
   "outputs": [],
   "source": [
    "from autograd import Variable\n",
    "import autograd\n",
    "from tqdm import tqdm\n",
    "import pandas as pd\n",
    "import numpy as np\n",
    "import random"
   ]
  },
  {
   "cell_type": "markdown",
   "metadata": {},
   "source": [
    "Let's load the data. "
   ]
  },
  {
   "cell_type": "code",
   "execution_count": 2,
   "metadata": {},
   "outputs": [
    {
     "data": {
      "text/html": [
       "<div>\n",
       "<style scoped>\n",
       "    .dataframe tbody tr th:only-of-type {\n",
       "        vertical-align: middle;\n",
       "    }\n",
       "\n",
       "    .dataframe tbody tr th {\n",
       "        vertical-align: top;\n",
       "    }\n",
       "\n",
       "    .dataframe thead th {\n",
       "        text-align: right;\n",
       "    }\n",
       "</style>\n",
       "<table border=\"1\" class=\"dataframe\">\n",
       "  <thead>\n",
       "    <tr style=\"text-align: right;\">\n",
       "      <th></th>\n",
       "      <th>No</th>\n",
       "      <th>X1 transaction date</th>\n",
       "      <th>X2 house age</th>\n",
       "      <th>X3 distance to the nearest MRT station</th>\n",
       "      <th>X4 number of convenience stores</th>\n",
       "      <th>X5 latitude</th>\n",
       "      <th>X6 longitude</th>\n",
       "      <th>Y house price of unit area</th>\n",
       "    </tr>\n",
       "  </thead>\n",
       "  <tbody>\n",
       "    <tr>\n",
       "      <th>0</th>\n",
       "      <td>1</td>\n",
       "      <td>2012.917</td>\n",
       "      <td>32.0</td>\n",
       "      <td>84.87882</td>\n",
       "      <td>10</td>\n",
       "      <td>24.98298</td>\n",
       "      <td>121.54024</td>\n",
       "      <td>37.9</td>\n",
       "    </tr>\n",
       "    <tr>\n",
       "      <th>1</th>\n",
       "      <td>2</td>\n",
       "      <td>2012.917</td>\n",
       "      <td>19.5</td>\n",
       "      <td>306.59470</td>\n",
       "      <td>9</td>\n",
       "      <td>24.98034</td>\n",
       "      <td>121.53951</td>\n",
       "      <td>42.2</td>\n",
       "    </tr>\n",
       "    <tr>\n",
       "      <th>2</th>\n",
       "      <td>3</td>\n",
       "      <td>2013.583</td>\n",
       "      <td>13.3</td>\n",
       "      <td>561.98450</td>\n",
       "      <td>5</td>\n",
       "      <td>24.98746</td>\n",
       "      <td>121.54391</td>\n",
       "      <td>47.3</td>\n",
       "    </tr>\n",
       "    <tr>\n",
       "      <th>3</th>\n",
       "      <td>4</td>\n",
       "      <td>2013.500</td>\n",
       "      <td>13.3</td>\n",
       "      <td>561.98450</td>\n",
       "      <td>5</td>\n",
       "      <td>24.98746</td>\n",
       "      <td>121.54391</td>\n",
       "      <td>54.8</td>\n",
       "    </tr>\n",
       "    <tr>\n",
       "      <th>4</th>\n",
       "      <td>5</td>\n",
       "      <td>2012.833</td>\n",
       "      <td>5.0</td>\n",
       "      <td>390.56840</td>\n",
       "      <td>5</td>\n",
       "      <td>24.97937</td>\n",
       "      <td>121.54245</td>\n",
       "      <td>43.1</td>\n",
       "    </tr>\n",
       "  </tbody>\n",
       "</table>\n",
       "</div>"
      ],
      "text/plain": [
       "   No  X1 transaction date  X2 house age  \\\n",
       "0   1             2012.917          32.0   \n",
       "1   2             2012.917          19.5   \n",
       "2   3             2013.583          13.3   \n",
       "3   4             2013.500          13.3   \n",
       "4   5             2012.833           5.0   \n",
       "\n",
       "   X3 distance to the nearest MRT station  X4 number of convenience stores  \\\n",
       "0                                84.87882                               10   \n",
       "1                               306.59470                                9   \n",
       "2                               561.98450                                5   \n",
       "3                               561.98450                                5   \n",
       "4                               390.56840                                5   \n",
       "\n",
       "   X5 latitude  X6 longitude  Y house price of unit area  \n",
       "0     24.98298     121.54024                        37.9  \n",
       "1     24.98034     121.53951                        42.2  \n",
       "2     24.98746     121.54391                        47.3  \n",
       "3     24.98746     121.54391                        54.8  \n",
       "4     24.97937     121.54245                        43.1  "
      ]
     },
     "execution_count": 2,
     "metadata": {},
     "output_type": "execute_result"
    }
   ],
   "source": [
    "csv_path = './data/real_estate.csv'\n",
    "df = pd.read_csv(csv_path)\n",
    "df.head()"
   ]
  },
  {
   "cell_type": "markdown",
   "metadata": {},
   "source": [
    "Let's verify that there are no null values we need to worry about. "
   ]
  },
  {
   "cell_type": "code",
   "execution_count": 3,
   "metadata": {},
   "outputs": [],
   "source": [
    "assert df.isnull().sum().sum() == 0"
   ]
  },
  {
   "cell_type": "markdown",
   "metadata": {},
   "source": [
    "Our model will be very simple. We'll create a linear regression model that takes in a value from each column and will return the predicted price.\n",
    "\n",
    "Our automatic differentiation engine expects numpy arrays. \n",
    "\n",
    "Let's convert the data into two numpy arrays, one for the inputs and one for the outputs."
   ]
  },
  {
   "cell_type": "code",
   "execution_count": 4,
   "metadata": {},
   "outputs": [],
   "source": [
    "input_df = df[['X1 transaction date', 'X2 house age', 'X3 distance to the nearest MRT station', 'X4 number of convenience stores', 'X5 latitude', 'X6 longitude']]\n",
    "output_df = df['Y house price of unit area']\n",
    "input_matrix = input_df.values\n",
    "output_vector = output_df.values"
   ]
  },
  {
   "cell_type": "code",
   "execution_count": 5,
   "metadata": {},
   "outputs": [
    {
     "data": {
      "text/plain": [
       "numpy.ndarray"
      ]
     },
     "execution_count": 5,
     "metadata": {},
     "output_type": "execute_result"
    }
   ],
   "source": [
    "type(input_matrix)"
   ]
  },
  {
   "cell_type": "code",
   "execution_count": 6,
   "metadata": {},
   "outputs": [
    {
     "data": {
      "text/plain": [
       "(414, 6)"
      ]
     },
     "execution_count": 6,
     "metadata": {},
     "output_type": "execute_result"
    }
   ],
   "source": [
    "input_matrix.shape"
   ]
  },
  {
   "cell_type": "code",
   "execution_count": 7,
   "metadata": {},
   "outputs": [
    {
     "data": {
      "text/plain": [
       "numpy.ndarray"
      ]
     },
     "execution_count": 7,
     "metadata": {},
     "output_type": "execute_result"
    }
   ],
   "source": [
    "type(output_vector)"
   ]
  },
  {
   "cell_type": "code",
   "execution_count": 8,
   "metadata": {},
   "outputs": [
    {
     "data": {
      "text/plain": [
       "(414,)"
      ]
     },
     "execution_count": 8,
     "metadata": {},
     "output_type": "execute_result"
    }
   ],
   "source": [
    "output_vector.shape"
   ]
  },
  {
   "cell_type": "markdown",
   "metadata": {},
   "source": [
    "Let's now split our data into a training set and test set. We'll use 70% of our data for training and 30% for testing. We'll manually set the random seeds for reproducibility purposes."
   ]
  },
  {
   "cell_type": "code",
   "execution_count": 9,
   "metadata": {},
   "outputs": [],
   "source": [
    "random.seed(0)\n",
    "np.random.seed(0)\n",
    "\n",
    "row_count = input_matrix.shape[0]\n",
    "row_indices = list(range(row_count))\n",
    "random.shuffle(row_indices)\n",
    "\n",
    "last_training_row_position = round(row_count*0.70)\n",
    "training_indices = row_indices[:last_training_row_position+1]\n",
    "testing_indices = row_indices[last_training_row_position+1:]\n",
    "\n",
    "training_input_matrix = input_matrix[training_indices]\n",
    "training_output_vector = output_vector[training_indices]\n",
    "testing_input_matrix = input_matrix[testing_indices]\n",
    "testing_output_vector = output_vector[testing_indices]"
   ]
  },
  {
   "cell_type": "markdown",
   "metadata": {},
   "source": [
    "We have 6 input columns, so we'll need to learn 6 multiplicative weights and 6 biases for our linear regression model. \n",
    "\n",
    "Let's initialize those weights."
   ]
  },
  {
   "cell_type": "code",
   "execution_count": 10,
   "metadata": {},
   "outputs": [],
   "source": [
    "weights = Variable(np.random.rand(6))\n",
    "biases = Variable(np.random.rand(6))"
   ]
  },
  {
   "cell_type": "markdown",
   "metadata": {},
   "source": [
    "First, we'll need to establish some hyperparameters for training our linear regression model. We'll be using stochastic gradient descent.\n",
    "\n",
    "In practice, we might use various batch sizes or shuffle our training data between epochs, but we'll forgo this for the sake of simplicity as the purposes of this tutorial is to show how to use our automatic differentiation engine rather than finding the best model possible."
   ]
  },
  {
   "cell_type": "code",
   "execution_count": 11,
   "metadata": {},
   "outputs": [],
   "source": [
    "number_of_epochs = 800\n",
    "learning_rate = 1e-5\n",
    "sgd = autograd.optimizer.SGD(learning_rate)"
   ]
  },
  {
   "cell_type": "markdown",
   "metadata": {},
   "source": [
    "Let's write our training loop. "
   ]
  },
  {
   "cell_type": "code",
   "execution_count": 12,
   "metadata": {},
   "outputs": [
    {
     "name": "stderr",
     "output_type": "stream",
     "text": [
      "Loss: 0.01085207: 100%|██████████| 800/800 [00:23<00:00, 34.03it/s]\n"
     ]
    }
   ],
   "source": [
    "epoch_iterator = tqdm(range(number_of_epochs))\n",
    "for epoch_index in epoch_iterator:\n",
    "    for x, y in zip(training_input_matrix, training_output_vector):\n",
    "        y_hat = np.sum(np.multiply(y, weights) + biases)\n",
    "        loss = (y_hat - y) ** 2\n",
    "        sgd.take_training_step(loss)\n",
    "    epoch_iterator.set_description(f'Loss: {loss.sum().data:.8f}')\n",
    "    epoch_iterator.refresh()"
   ]
  },
  {
   "cell_type": "markdown",
   "metadata": {},
   "source": [
    "Let's now see how our model performs on our test set."
   ]
  },
  {
   "cell_type": "code",
   "execution_count": 13,
   "metadata": {},
   "outputs": [],
   "source": [
    "mean_testing_loss = 0\n",
    "for x, y in zip(testing_input_matrix, testing_output_vector):\n",
    "    y_hat = np.sum(np.multiply(y, weights) + biases)\n",
    "    loss = (y_hat - y) ** 2\n",
    "    mean_testing_loss += loss.data\n",
    "mean_testing_loss /= len(testing_output_vector)"
   ]
  },
  {
   "cell_type": "code",
   "execution_count": 14,
   "metadata": {},
   "outputs": [
    {
     "data": {
      "text/plain": [
       "0.00506999587106785"
      ]
     },
     "execution_count": 14,
     "metadata": {},
     "output_type": "execute_result"
    }
   ],
   "source": [
    "mean_testing_loss"
   ]
  },
  {
   "cell_type": "markdown",
   "metadata": {},
   "source": [
    "Let's look at a few random results to sanity check our mode. "
   ]
  },
  {
   "cell_type": "code",
   "execution_count": 17,
   "metadata": {},
   "outputs": [
    {
     "name": "stdout",
     "output_type": "stream",
     "text": [
      "15.133669902084058 15.0\n",
      "42.41191004993169 42.4\n",
      "60.63058868882263 60.7\n",
      "34.74612723466065 34.7\n",
      "23.695453306153027 23.6\n",
      "45.09991181632544 45.1\n",
      "33.45190416195254 33.4\n",
      "51.37191593791084 51.4\n",
      "34.148793508795364 34.1\n",
      "21.007451539759277 20.9\n",
      "51.571027179865936 51.6\n",
      "31.361236121424078 31.3\n",
      "41.11768697722359 41.1\n",
      "28.971901217962966 28.9\n",
      "40.122130767448134 40.1\n",
      "25.587010104726403 25.5\n",
      "22.899008338332653 22.8\n",
      "37.931907105942116 37.9\n",
      "47.688357961741644 47.7\n",
      "36.83679527518911 36.8\n",
      "50.67502659106802 50.7\n",
      "38.330129589852305 38.3\n",
      "27.37901128232223 27.3\n",
      "48.18613606662937 48.2\n",
      "43.108799396774515 43.1\n",
      "24.790565136906032 24.7\n",
      "69.98881706071195 70.1\n",
      "51.77013842182103 51.8\n",
      "59.43592123709208 59.5\n",
      "41.018131356246045 41.0\n",
      "45.09991181632544 45.1\n",
      "45.49813430023562 45.5\n",
      "38.13101834789721 38.1\n",
      "11.74877878884749 11.6\n",
      "63.81636856010411 63.9\n",
      "54.955918293102506 55.0\n",
      "30.863458016536345 30.8\n",
      "40.22168638842568 40.2\n",
      "43.20835501775206 43.2\n",
      "36.93635089616666 36.9\n",
      "35.642127823458566 35.6\n",
      "67.59948215725086 67.7\n",
      "46.59324613098863 46.6\n",
      "34.049237887817824 34.0\n",
      "44.90080057437034 44.9\n",
      "24.89012075788358 24.8\n",
      "54.955918293102506 55.0\n",
      "39.72390828353795 39.7\n",
      "41.515909461133774 41.5\n",
      "20.808340297804182 20.7\n",
      "13.83944682937596 13.7\n",
      "30.067013048715975 30.0\n",
      "30.763902395558798 30.7\n",
      "55.45369639799023 55.5\n",
      "18.319449773365534 18.2\n",
      "42.01368756602151 42.0\n",
      "19.115894741185905 19.0\n",
      "44.004799985572426 44.0\n",
      "36.339017170301375 36.3\n",
      "32.55590357315463 32.5\n",
      "7.766553949745646 7.6\n",
      "37.0359065171442 37.0\n",
      "34.64657161368309 34.6\n",
      "34.24834912977292 34.2\n",
      "73.47326379492607 73.6\n",
      "57.345253196563604 57.4\n",
      "14.536336176218784 14.4\n",
      "52.66613901061895 52.7\n",
      "42.81013253384188 42.8\n",
      "37.931907105942116 37.9\n",
      "18.71767225727572 18.6\n",
      "53.46258397843931 53.5\n",
      "26.682121935479408 26.6\n",
      "61.427033656643 61.5\n",
      "46.69280175196617 46.7\n",
      "45.39857867925808 45.4\n",
      "25.08923199983867 25.0\n",
      "39.52479704158286 39.5\n",
      "23.795008927130567 23.7\n",
      "12.943446240578046 12.8\n",
      "39.72390828353795 39.7\n",
      "25.686565725703947 25.6\n",
      "30.564791153603704 30.5\n",
      "36.737239654211564 36.7\n",
      "77.8537111179381 78.0\n",
      "39.624352662560405 39.6\n",
      "48.484802929562 48.5\n",
      "55.851918881900424 55.9\n",
      "20.808340297804182 20.7\n",
      "56.2501413658106 56.3\n",
      "41.416353840156226 41.4\n",
      "23.59589768517548 23.5\n",
      "42.312354428954144 42.3\n",
      "25.38789886277131 25.3\n",
      "52.16836090573122 52.2\n",
      "44.20391122752753 44.2\n",
      "39.42524142060531 39.4\n",
      "29.569234943828242 29.5\n",
      "52.964805873551576 53.0\n",
      "63.219034834238826 63.3\n",
      "40.520353251358316 40.5\n",
      "60.63058868882263 60.7\n",
      "42.01368756602151 42.0\n",
      "13.54077996644332 13.4\n",
      "55.254585156035134 55.3\n",
      "23.098119580287747 23.0\n",
      "28.474123113075233 28.4\n",
      "40.81902011429096 40.8\n",
      "63.219034834238826 63.3\n",
      "39.42524142060531 39.4\n",
      "16.82611545870234 16.7\n",
      "18.91678349923081 18.8\n",
      "21.803896507579648 21.7\n",
      "15.731003627949335 15.6\n",
      "27.777233766232413 27.7\n",
      "34.24834912977292 34.2\n",
      "22.401230233444927 22.3\n",
      "24.49189827397339 24.4\n",
      "37.53368462203193 37.5\n",
      "29.370123701873148 29.3\n",
      "48.08658044565182 48.1\n",
      "27.37901128232223 27.3\n",
      "48.18613606662937 48.2\n"
     ]
    }
   ],
   "source": [
    "random_test_examples = list(zip(testing_input_matrix, testing_output_vector))\n",
    "for x, y in :\n",
    "    y_hat = np.sum(np.multiply(y, weights) + biases)\n",
    "    print(y_hat.data, y)"
   ]
  },
  {
   "cell_type": "code",
   "execution_count": null,
   "metadata": {},
   "outputs": [],
   "source": []
  },
  {
   "cell_type": "code",
   "execution_count": null,
   "metadata": {},
   "outputs": [],
   "source": [
    "np.sum(np.array([20.96321226, 27.6398553 , 23.50701303, 20.76207256, 16.63641453,\n",
    "       24.68533475]))"
   ]
  },
  {
   "cell_type": "code",
   "execution_count": null,
   "metadata": {},
   "outputs": [],
   "source": [
    "np.add"
   ]
  },
  {
   "cell_type": "code",
   "execution_count": null,
   "metadata": {},
   "outputs": [],
   "source": []
  },
  {
   "cell_type": "code",
   "execution_count": null,
   "metadata": {},
   "outputs": [],
   "source": []
  },
  {
   "cell_type": "code",
   "execution_count": null,
   "metadata": {},
   "outputs": [],
   "source": []
  }
 ],
 "metadata": {
  "kernelspec": {
   "display_name": "Python 3",
   "language": "python",
   "name": "python3"
  },
  "language_info": {
   "codemirror_mode": {
    "name": "ipython",
    "version": 3
   },
   "file_extension": ".py",
   "mimetype": "text/x-python",
   "name": "python",
   "nbconvert_exporter": "python",
   "pygments_lexer": "ipython3",
   "version": "3.7.9"
  }
 },
 "nbformat": 4,
 "nbformat_minor": 4
}
