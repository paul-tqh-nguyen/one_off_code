{
 "cells": [
  {
   "cell_type": "markdown",
   "metadata": {},
   "source": [
    "# Logistic Regression Example\n",
    "\n",
    "In this tutorial, we'll walk through how to use our automatic differentiation engine to create and train a logistic regression model to predict heart disease. \n",
    "\n",
    "The data can be found [here](https://www.kaggle.com/amanajmera1/framingham-heart-study-dataset).\n",
    "\n",
    "Our goal here is not to create the best model to fit our data, but to simply show how to use our automatic differentiation engine to create, train, and test a logistic regression model. Thus, our model will be very simplistic for pedagogical purposes."
   ]
  },
  {
   "cell_type": "markdown",
   "metadata": {},
   "source": [
    "# Data Preprocessing\n",
    "\n",
    "We'll take look at our data and then preprocess it to be in a form appropriate to use with our automatic differentiation engine.\n",
    "\n",
    "Feel free to skip this section as it doesn't directly relate to how to use our automatic differentiation engine.\n",
    "\n",
    "Let's first import some necessary libraries."
   ]
  },
  {
   "cell_type": "code",
   "execution_count": 2,
   "metadata": {},
   "outputs": [],
   "source": [
    "from autograd import Variable, LogisticRegressionLayer\n",
    "import autograd\n",
    "from tqdm import tqdm\n",
    "import pandas as pd\n",
    "import numpy as np\n",
    "import random"
   ]
  },
  {
   "cell_type": "markdown",
   "metadata": {},
   "source": [
    "Let's load the data. "
   ]
  },
  {
   "cell_type": "code",
   "execution_count": 3,
   "metadata": {},
   "outputs": [
    {
     "data": {
      "text/html": [
       "<div>\n",
       "<style scoped>\n",
       "    .dataframe tbody tr th:only-of-type {\n",
       "        vertical-align: middle;\n",
       "    }\n",
       "\n",
       "    .dataframe tbody tr th {\n",
       "        vertical-align: top;\n",
       "    }\n",
       "\n",
       "    .dataframe thead th {\n",
       "        text-align: right;\n",
       "    }\n",
       "</style>\n",
       "<table border=\"1\" class=\"dataframe\">\n",
       "  <thead>\n",
       "    <tr style=\"text-align: right;\">\n",
       "      <th></th>\n",
       "      <th>male</th>\n",
       "      <th>age</th>\n",
       "      <th>education</th>\n",
       "      <th>currentSmoker</th>\n",
       "      <th>cigsPerDay</th>\n",
       "      <th>BPMeds</th>\n",
       "      <th>prevalentStroke</th>\n",
       "      <th>prevalentHyp</th>\n",
       "      <th>diabetes</th>\n",
       "      <th>totChol</th>\n",
       "      <th>sysBP</th>\n",
       "      <th>diaBP</th>\n",
       "      <th>BMI</th>\n",
       "      <th>heartRate</th>\n",
       "      <th>glucose</th>\n",
       "      <th>TenYearCHD</th>\n",
       "    </tr>\n",
       "  </thead>\n",
       "  <tbody>\n",
       "    <tr>\n",
       "      <th>0</th>\n",
       "      <td>1</td>\n",
       "      <td>39</td>\n",
       "      <td>4.0</td>\n",
       "      <td>0</td>\n",
       "      <td>0.0</td>\n",
       "      <td>0.0</td>\n",
       "      <td>0</td>\n",
       "      <td>0</td>\n",
       "      <td>0</td>\n",
       "      <td>195.0</td>\n",
       "      <td>106.0</td>\n",
       "      <td>70.0</td>\n",
       "      <td>26.97</td>\n",
       "      <td>80.0</td>\n",
       "      <td>77.0</td>\n",
       "      <td>0</td>\n",
       "    </tr>\n",
       "    <tr>\n",
       "      <th>1</th>\n",
       "      <td>0</td>\n",
       "      <td>46</td>\n",
       "      <td>2.0</td>\n",
       "      <td>0</td>\n",
       "      <td>0.0</td>\n",
       "      <td>0.0</td>\n",
       "      <td>0</td>\n",
       "      <td>0</td>\n",
       "      <td>0</td>\n",
       "      <td>250.0</td>\n",
       "      <td>121.0</td>\n",
       "      <td>81.0</td>\n",
       "      <td>28.73</td>\n",
       "      <td>95.0</td>\n",
       "      <td>76.0</td>\n",
       "      <td>0</td>\n",
       "    </tr>\n",
       "    <tr>\n",
       "      <th>2</th>\n",
       "      <td>1</td>\n",
       "      <td>48</td>\n",
       "      <td>1.0</td>\n",
       "      <td>1</td>\n",
       "      <td>20.0</td>\n",
       "      <td>0.0</td>\n",
       "      <td>0</td>\n",
       "      <td>0</td>\n",
       "      <td>0</td>\n",
       "      <td>245.0</td>\n",
       "      <td>127.5</td>\n",
       "      <td>80.0</td>\n",
       "      <td>25.34</td>\n",
       "      <td>75.0</td>\n",
       "      <td>70.0</td>\n",
       "      <td>0</td>\n",
       "    </tr>\n",
       "    <tr>\n",
       "      <th>3</th>\n",
       "      <td>0</td>\n",
       "      <td>61</td>\n",
       "      <td>3.0</td>\n",
       "      <td>1</td>\n",
       "      <td>30.0</td>\n",
       "      <td>0.0</td>\n",
       "      <td>0</td>\n",
       "      <td>1</td>\n",
       "      <td>0</td>\n",
       "      <td>225.0</td>\n",
       "      <td>150.0</td>\n",
       "      <td>95.0</td>\n",
       "      <td>28.58</td>\n",
       "      <td>65.0</td>\n",
       "      <td>103.0</td>\n",
       "      <td>1</td>\n",
       "    </tr>\n",
       "    <tr>\n",
       "      <th>4</th>\n",
       "      <td>0</td>\n",
       "      <td>46</td>\n",
       "      <td>3.0</td>\n",
       "      <td>1</td>\n",
       "      <td>23.0</td>\n",
       "      <td>0.0</td>\n",
       "      <td>0</td>\n",
       "      <td>0</td>\n",
       "      <td>0</td>\n",
       "      <td>285.0</td>\n",
       "      <td>130.0</td>\n",
       "      <td>84.0</td>\n",
       "      <td>23.10</td>\n",
       "      <td>85.0</td>\n",
       "      <td>85.0</td>\n",
       "      <td>0</td>\n",
       "    </tr>\n",
       "  </tbody>\n",
       "</table>\n",
       "</div>"
      ],
      "text/plain": [
       "   male  age  education  currentSmoker  cigsPerDay  BPMeds  prevalentStroke  \\\n",
       "0     1   39        4.0              0         0.0     0.0                0   \n",
       "1     0   46        2.0              0         0.0     0.0                0   \n",
       "2     1   48        1.0              1        20.0     0.0                0   \n",
       "3     0   61        3.0              1        30.0     0.0                0   \n",
       "4     0   46        3.0              1        23.0     0.0                0   \n",
       "\n",
       "   prevalentHyp  diabetes  totChol  sysBP  diaBP    BMI  heartRate  glucose  \\\n",
       "0             0         0    195.0  106.0   70.0  26.97       80.0     77.0   \n",
       "1             0         0    250.0  121.0   81.0  28.73       95.0     76.0   \n",
       "2             0         0    245.0  127.5   80.0  25.34       75.0     70.0   \n",
       "3             1         0    225.0  150.0   95.0  28.58       65.0    103.0   \n",
       "4             0         0    285.0  130.0   84.0  23.10       85.0     85.0   \n",
       "\n",
       "   TenYearCHD  \n",
       "0           0  \n",
       "1           0  \n",
       "2           0  \n",
       "3           1  \n",
       "4           0  "
      ]
     },
     "execution_count": 3,
     "metadata": {},
     "output_type": "execute_result"
    }
   ],
   "source": [
    "csv_path = './data/framingham.csv'\n",
    "df = pd.read_csv(csv_path)\n",
    "df.head()"
   ]
  },
  {
   "cell_type": "markdown",
   "metadata": {},
   "source": [
    "Let's clean our data.\n",
    "\n",
    "Since this tutorial is focused on using our automatic differentiaion engine rather than on machine learning itself, we'll avoid doing a deep dive into the data analysis rationalizing the methods we here to clean our data. More examples of analysis on this dataset can be found [here](https://www.kaggle.com/amanajmera1/framingham-heart-study-dataset/notebooks).\n",
    "\n",
    "Let's start by dropping any null values"
   ]
  },
  {
   "cell_type": "code",
   "execution_count": 4,
   "metadata": {},
   "outputs": [],
   "source": [
    "df.dropna(axis=0, inplace=True)\n",
    "assert df.isnull().sum().sum() == 0"
   ]
  },
  {
   "cell_type": "markdown",
   "metadata": {},
   "source": [
    "Let's normalize our data."
   ]
  },
  {
   "cell_type": "code",
   "execution_count": 5,
   "metadata": {},
   "outputs": [
    {
     "data": {
      "text/html": [
       "<div>\n",
       "<style scoped>\n",
       "    .dataframe tbody tr th:only-of-type {\n",
       "        vertical-align: middle;\n",
       "    }\n",
       "\n",
       "    .dataframe tbody tr th {\n",
       "        vertical-align: top;\n",
       "    }\n",
       "\n",
       "    .dataframe thead th {\n",
       "        text-align: right;\n",
       "    }\n",
       "</style>\n",
       "<table border=\"1\" class=\"dataframe\">\n",
       "  <thead>\n",
       "    <tr style=\"text-align: right;\">\n",
       "      <th></th>\n",
       "      <th>male</th>\n",
       "      <th>age</th>\n",
       "      <th>education</th>\n",
       "      <th>currentSmoker</th>\n",
       "      <th>cigsPerDay</th>\n",
       "      <th>BPMeds</th>\n",
       "      <th>prevalentStroke</th>\n",
       "      <th>prevalentHyp</th>\n",
       "      <th>diabetes</th>\n",
       "      <th>totChol</th>\n",
       "      <th>sysBP</th>\n",
       "      <th>diaBP</th>\n",
       "      <th>BMI</th>\n",
       "      <th>heartRate</th>\n",
       "      <th>glucose</th>\n",
       "      <th>TenYearCHD</th>\n",
       "    </tr>\n",
       "  </thead>\n",
       "  <tbody>\n",
       "    <tr>\n",
       "      <th>0</th>\n",
       "      <td>1.119602</td>\n",
       "      <td>-1.232411</td>\n",
       "      <td>1.974939</td>\n",
       "      <td>-0.978230</td>\n",
       "      <td>-0.757065</td>\n",
       "      <td>-0.176877</td>\n",
       "      <td>-0.075976</td>\n",
       "      <td>-0.672768</td>\n",
       "      <td>-0.166761</td>\n",
       "      <td>-0.948978</td>\n",
       "      <td>-1.193947</td>\n",
       "      <td>-1.078733</td>\n",
       "      <td>0.292010</td>\n",
       "      <td>0.356321</td>\n",
       "      <td>-0.203016</td>\n",
       "      <td>0</td>\n",
       "    </tr>\n",
       "    <tr>\n",
       "      <th>1</th>\n",
       "      <td>-0.892931</td>\n",
       "      <td>-0.414848</td>\n",
       "      <td>0.019247</td>\n",
       "      <td>-0.978230</td>\n",
       "      <td>-0.757065</td>\n",
       "      <td>-0.176877</td>\n",
       "      <td>-0.075976</td>\n",
       "      <td>-0.672768</td>\n",
       "      <td>-0.166761</td>\n",
       "      <td>0.298253</td>\n",
       "      <td>-0.514811</td>\n",
       "      <td>-0.160096</td>\n",
       "      <td>0.724911</td>\n",
       "      <td>1.608249</td>\n",
       "      <td>-0.244850</td>\n",
       "      <td>0</td>\n",
       "    </tr>\n",
       "    <tr>\n",
       "      <th>2</th>\n",
       "      <td>1.119602</td>\n",
       "      <td>-0.181259</td>\n",
       "      <td>-0.958599</td>\n",
       "      <td>1.021975</td>\n",
       "      <td>0.920563</td>\n",
       "      <td>-0.176877</td>\n",
       "      <td>-0.075976</td>\n",
       "      <td>-0.672768</td>\n",
       "      <td>-0.166761</td>\n",
       "      <td>0.184868</td>\n",
       "      <td>-0.220518</td>\n",
       "      <td>-0.243609</td>\n",
       "      <td>-0.108914</td>\n",
       "      <td>-0.060988</td>\n",
       "      <td>-0.495852</td>\n",
       "      <td>0</td>\n",
       "    </tr>\n",
       "    <tr>\n",
       "      <th>3</th>\n",
       "      <td>-0.892931</td>\n",
       "      <td>1.337073</td>\n",
       "      <td>0.997093</td>\n",
       "      <td>1.021975</td>\n",
       "      <td>1.759377</td>\n",
       "      <td>-0.176877</td>\n",
       "      <td>-0.075976</td>\n",
       "      <td>1.485991</td>\n",
       "      <td>-0.166761</td>\n",
       "      <td>-0.268670</td>\n",
       "      <td>0.798187</td>\n",
       "      <td>1.009079</td>\n",
       "      <td>0.688016</td>\n",
       "      <td>-0.895606</td>\n",
       "      <td>0.884661</td>\n",
       "      <td>1</td>\n",
       "    </tr>\n",
       "    <tr>\n",
       "      <th>4</th>\n",
       "      <td>-0.892931</td>\n",
       "      <td>-0.414848</td>\n",
       "      <td>0.997093</td>\n",
       "      <td>1.021975</td>\n",
       "      <td>1.172207</td>\n",
       "      <td>-0.176877</td>\n",
       "      <td>-0.075976</td>\n",
       "      <td>-0.672768</td>\n",
       "      <td>-0.166761</td>\n",
       "      <td>1.091946</td>\n",
       "      <td>-0.107329</td>\n",
       "      <td>0.090441</td>\n",
       "      <td>-0.659878</td>\n",
       "      <td>0.773630</td>\n",
       "      <td>0.131654</td>\n",
       "      <td>0</td>\n",
       "    </tr>\n",
       "  </tbody>\n",
       "</table>\n",
       "</div>"
      ],
      "text/plain": [
       "       male       age  education  currentSmoker  cigsPerDay    BPMeds  \\\n",
       "0  1.119602 -1.232411   1.974939      -0.978230   -0.757065 -0.176877   \n",
       "1 -0.892931 -0.414848   0.019247      -0.978230   -0.757065 -0.176877   \n",
       "2  1.119602 -0.181259  -0.958599       1.021975    0.920563 -0.176877   \n",
       "3 -0.892931  1.337073   0.997093       1.021975    1.759377 -0.176877   \n",
       "4 -0.892931 -0.414848   0.997093       1.021975    1.172207 -0.176877   \n",
       "\n",
       "   prevalentStroke  prevalentHyp  diabetes   totChol     sysBP     diaBP  \\\n",
       "0        -0.075976     -0.672768 -0.166761 -0.948978 -1.193947 -1.078733   \n",
       "1        -0.075976     -0.672768 -0.166761  0.298253 -0.514811 -0.160096   \n",
       "2        -0.075976     -0.672768 -0.166761  0.184868 -0.220518 -0.243609   \n",
       "3        -0.075976      1.485991 -0.166761 -0.268670  0.798187  1.009079   \n",
       "4        -0.075976     -0.672768 -0.166761  1.091946 -0.107329  0.090441   \n",
       "\n",
       "        BMI  heartRate   glucose  TenYearCHD  \n",
       "0  0.292010   0.356321 -0.203016           0  \n",
       "1  0.724911   1.608249 -0.244850           0  \n",
       "2 -0.108914  -0.060988 -0.495852           0  \n",
       "3  0.688016  -0.895606  0.884661           1  \n",
       "4 -0.659878   0.773630  0.131654           0  "
      ]
     },
     "execution_count": 5,
     "metadata": {},
     "output_type": "execute_result"
    }
   ],
   "source": [
    "for column in df.columns:\n",
    "    if column != 'TenYearCHD':\n",
    "        df[column] = (df[column] - df[column].mean()) / df[column].std()\n",
    "\n",
    "df.head()"
   ]
  },
  {
   "cell_type": "markdown",
   "metadata": {},
   "source": [
    "Our model will be very simple. We'll create a logistic regression model that takes in a value from each column and will return whether or not the patient has a 10 year risk of heart disease.\n",
    "\n",
    "Our automatic differentiation engine expects numpy arrays. \n",
    "\n",
    "Let's convert the data into two numpy arrays, one for the inputs and one for the outputs."
   ]
  },
  {
   "cell_type": "code",
   "execution_count": 6,
   "metadata": {},
   "outputs": [],
   "source": [
    "input_df = df[['male', 'age', 'education', 'currentSmoker', 'cigsPerDay', 'BPMeds', 'prevalentStroke', 'prevalentHyp', 'diabetes', 'totChol', 'sysBP', 'diaBP', 'BMI', 'heartRate', 'glucose']]\n",
    "output_df = df['TenYearCHD']\n",
    "input_matrix = input_df.values\n",
    "output_vector = output_df.values"
   ]
  },
  {
   "cell_type": "code",
   "execution_count": 7,
   "metadata": {},
   "outputs": [
    {
     "data": {
      "text/plain": [
       "numpy.ndarray"
      ]
     },
     "execution_count": 7,
     "metadata": {},
     "output_type": "execute_result"
    }
   ],
   "source": [
    "type(input_matrix)"
   ]
  },
  {
   "cell_type": "code",
   "execution_count": 8,
   "metadata": {},
   "outputs": [
    {
     "data": {
      "text/plain": [
       "(3658, 15)"
      ]
     },
     "execution_count": 8,
     "metadata": {},
     "output_type": "execute_result"
    }
   ],
   "source": [
    "input_matrix.shape"
   ]
  },
  {
   "cell_type": "code",
   "execution_count": 9,
   "metadata": {},
   "outputs": [
    {
     "data": {
      "text/plain": [
       "numpy.ndarray"
      ]
     },
     "execution_count": 9,
     "metadata": {},
     "output_type": "execute_result"
    }
   ],
   "source": [
    "type(output_vector)"
   ]
  },
  {
   "cell_type": "code",
   "execution_count": 10,
   "metadata": {},
   "outputs": [
    {
     "data": {
      "text/plain": [
       "(3658,)"
      ]
     },
     "execution_count": 10,
     "metadata": {},
     "output_type": "execute_result"
    }
   ],
   "source": [
    "output_vector.shape"
   ]
  },
  {
   "cell_type": "markdown",
   "metadata": {},
   "source": [
    "Let's now split our data into a training set and test set. We'll use 70% of our data for training and 30% for testing. We'll manually set the random seeds for reproducibility purposes."
   ]
  },
  {
   "cell_type": "code",
   "execution_count": 11,
   "metadata": {},
   "outputs": [],
   "source": [
    "random.seed(0)\n",
    "np.random.seed(0)\n",
    "\n",
    "row_count = input_matrix.shape[0]\n",
    "row_indices = list(range(row_count))\n",
    "random.shuffle(row_indices)\n",
    "\n",
    "last_training_row_position = round(row_count*0.75)\n",
    "training_indices = row_indices[:last_training_row_position+1]\n",
    "testing_indices = row_indices[last_training_row_position+1:]\n",
    "\n",
    "training_input_matrix = input_matrix[training_indices]\n",
    "training_output_vector = output_vector[training_indices]\n",
    "testing_input_matrix = input_matrix[testing_indices]\n",
    "testing_output_vector = output_vector[testing_indices]"
   ]
  },
  {
   "cell_type": "markdown",
   "metadata": {},
   "source": [
    "A logistic regression model can be implemented as a dense linear layer with a sigmoid activation. \n",
    "\n",
    "Our automatic differentiation engine provides a layer that does exactly that."
   ]
  },
  {
   "cell_type": "code",
   "execution_count": 12,
   "metadata": {},
   "outputs": [],
   "source": [
    "logistic_regression_layer = LogisticRegressionLayer(15, 1)"
   ]
  },
  {
   "cell_type": "markdown",
   "metadata": {},
   "source": [
    "First, we'll need to establish some hyperparameters for training our linear regression model. We'll be using stochastic gradient descent.\n",
    "\n",
    "In practice, we might use various batch sizes or shuffle our training data between epochs, but we'll forgo this for the sake of simplicity as the purposes of this tutorial is to show how to use our automatic differentiation engine rather than finding the best model possible."
   ]
  },
  {
   "cell_type": "code",
   "execution_count": 13,
   "metadata": {},
   "outputs": [],
   "source": [
    "number_of_epochs = 40\n",
    "learning_rate = 1e-3\n",
    "sgd = autograd.optimizer.SGD(learning_rate)"
   ]
  },
  {
   "cell_type": "markdown",
   "metadata": {},
   "source": [
    "Let's write our training loop. We'll use cross entropy as the loss function along with L2 regularization."
   ]
  },
  {
   "cell_type": "code",
   "execution_count": 14,
   "metadata": {},
   "outputs": [
    {
     "name": "stderr",
     "output_type": "stream",
     "text": [
      "Mean Loss: 0.37751710: 100%|██████████| 40/40 [00:30<00:00,  1.32it/s]\n"
     ]
    }
   ],
   "source": [
    "epoch_iterator = tqdm(range(number_of_epochs))\n",
    "for epoch_index in epoch_iterator:\n",
    "    mean_loss = 0 \n",
    "    for x, y in zip(training_input_matrix, training_output_vector):\n",
    "        y_hat = logistic_regression_layer(x)\n",
    "        loss = y_hat.bce_loss(y)\n",
    "        mean_loss += loss.data.item()\n",
    "        sgd.take_training_step(loss)\n",
    "    mean_loss /= len(training_output_vector)\n",
    "    epoch_iterator.set_description(f'Mean Loss: {mean_loss:.8f}')\n",
    "    epoch_iterator.refresh()"
   ]
  },
  {
   "cell_type": "markdown",
   "metadata": {},
   "source": [
    "Let's now see how our model performs on our test set."
   ]
  },
  {
   "cell_type": "code",
   "execution_count": 15,
   "metadata": {},
   "outputs": [
    {
     "name": "stdout",
     "output_type": "stream",
     "text": [
      "True Positives:  13\n",
      "True Negatives:  766\n",
      "False Positives: 124\n",
      "False Negatives: 10\n",
      "\n",
      "Precision: 0.0948905109489051\n",
      "Recall:    0.5652173913043478\n",
      "F1:        0.16249999999999998\n",
      "Accuracy:  0.8532311062431545\n"
     ]
    }
   ],
   "source": [
    "true_positive_count = 0\n",
    "true_negative_count = 0\n",
    "false_positive_count = 0\n",
    "false_negative_count = 0\n",
    "\n",
    "for x, y in zip(testing_input_matrix, testing_output_vector):\n",
    "    y_hat = logistic_regression_layer(x)\n",
    "    y_hat = y_hat.round()\n",
    "    is_correct = y_hat == y\n",
    "    is_positive = y == 1\n",
    "    if is_correct:\n",
    "        if is_positive:\n",
    "            true_positive_count += 1\n",
    "        else:\n",
    "            true_negative_count += 1\n",
    "    else:\n",
    "        if is_positive:\n",
    "            false_positive_count += 1\n",
    "        else:\n",
    "            false_negative_count += 1\n",
    "\n",
    "precision = true_positive_count/(true_positive_count+false_positive_count)\n",
    "recall = true_positive_count/(true_positive_count+false_negative_count)\n",
    "f1 = 2 * precision * recall / (precision + recall)\n",
    "\n",
    "accuracy = (true_positive_count + true_negative_count) / (true_positive_count + true_negative_count + false_positive_count + false_negative_count)\n",
    "\n",
    "print(f'True Positives:  {true_positive_count}')\n",
    "print(f'True Negatives:  {true_negative_count}')\n",
    "print(f'False Positives: {false_positive_count}')\n",
    "print(f'False Negatives: {false_negative_count}')\n",
    "print()\n",
    "print(f'Precision: {precision}')\n",
    "print(f'Recall:    {recall}')\n",
    "print(f'F1:        {f1}')\n",
    "print(f'Accuracy:  {accuracy}')"
   ]
  },
  {
   "cell_type": "code",
   "execution_count": null,
   "metadata": {},
   "outputs": [],
   "source": []
  }
 ],
 "metadata": {
  "kernelspec": {
   "display_name": "Python 3",
   "language": "python",
   "name": "python3"
  },
  "language_info": {
   "codemirror_mode": {
    "name": "ipython",
    "version": 3
   },
   "file_extension": ".py",
   "mimetype": "text/x-python",
   "name": "python",
   "nbconvert_exporter": "python",
   "pygments_lexer": "ipython3",
   "version": "3.7.9"
  }
 },
 "nbformat": 4,
 "nbformat_minor": 4
}
